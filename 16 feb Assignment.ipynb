{
 "cells": [
  {
   "cell_type": "markdown",
   "id": "8b40e5e3-77d8-4179-b8d1-9665c160e52d",
   "metadata": {},
   "source": [
    "Q1. What is a database? Differentiate between SQL and NoSQL databases.                                            \n",
    "A database is an organized collection of structured information, or data, typically stored electronically in a computer system. A database is usually controlled by a database management system (DBMS). Together, the data and the DBMS, along with the applications that are associated with them, are referred to as a database system, often shortened to just database.     \n",
    "\n",
    "Data within the most common types of databases in operation today is typically modeled in rows and columns in a series of tables to make processing and data querying efficient. The data can then be easily accessed, managed, modified, updated, controlled, and organized. Most databases use structured query language (SQL) for writing and querying data.           \n",
    "\n",
    "SQL databases are vertically scalable, while NoSQL databases are horizontally scalable. SQL databases are table-based, while NoSQL databases are document, key-value, graph, or wide-column stores. SQL databases are better for multi-row transactions, while NoSQL is better for unstructured data like documents or JSON."
   ]
  },
  {
   "cell_type": "markdown",
   "id": "d48c54bd-9987-437e-a449-b9a75a64d303",
   "metadata": {},
   "source": [
    "Q2. What is DDL? Explain why CREATE, DROP, ALTER, and TRUNCATE are used with an example                                  \n",
    "Data Definition Language (DDL) is a subset of SQL. It is a language for describing data and its relationships in a database. You can generate DDL in a script for database objects to: Keep a snapshot of the database structure.                       \n",
    "CREATE :                                     \n",
    "\n",
    "This command is used to create a new table in SQL. The user has to give information like table name, column names, and their datatypes.                                       \n",
    "\n",
    "Ex-                                                             \n",
    "\n",
    "CREATE TABLE Student_info ( College_Id number(23), College_name varchar(34), Branch varchar(10) );                          \n",
    "\n",
    "ALTER :                                        \n",
    "\n",
    "This command is used to add, delete or change columns in the existing table. The user needs to know the existing table name and can do add, delete or modify tasks easily.                                            \n",
    "\n",
    "Ex-                                       \n",
    "\n",
    "ALTER TABLE Student_info ADD CGPA number;                               \n",
    "\n",
    "TRUNCATE :                                                                   \n",
    "\n",
    "This command is used to remove all rows from the table, but the structure of the table still exists.                             \n",
    "\n",
    "Ex-                                 \n",
    "\n",
    "TRUNCATE TABLE Student_info;                                                    \n",
    "\n",
    "DROP :                                                                                       \n",
    "\n",
    "This command is used to remove an existing table along with its structure from the Database.                            \n",
    "\n",
    "Ex-                                          \n",
    "\n",
    "DROP TABLE Student_info;"
   ]
  },
  {
   "cell_type": "markdown",
   "id": "92ace366-0541-4d14-a0c5-1cce916ff3fb",
   "metadata": {},
   "source": [
    " Q3. What is DML? Explain INSERT, UPDATE, and DELETE with an example.                                                  \n",
    "DML, or the Data Manipulation Language, helps us deal with managing and manipulating data in the database.            \n",
    "INSERT is used to insert records into a specified table of the database. you have to use the ‘INSERT’ clause           \n",
    "INSERT INTO Students(StudentId, StudentName, DepartmentId, DateOfBirth)                                       \n",
    "              VALUES(11, 'Ahmad', 4, '1997-10-12');                       \n",
    "UPDATE Query is used to modifying the existing records in a table. You can use WHERE clause with UPDATE query to update selected rows.                                                  \n",
    "UPDATE Students                                                   \n",
    "SET DepartmentId = 3                                                       \n",
    "WHERE StudentId = 6;                            \n",
    "DELETE query is used to remove existing records from a specified table. You can use the WHERE clause with DELETE queries to delete the selected rows.                         \n",
    "DELETE FROM Students WHERE StudentId = 11 OR StudentId = 12;"
   ]
  },
  {
   "cell_type": "markdown",
   "id": "dcdf19c8-cd9e-4325-a07d-dbd4a9c4f994",
   "metadata": {},
   "source": [
    "Q4. What is DQL? Explain SELECT with an example.                                                    \n",
    "DQL statements are used for performing queries on the data within schema objects. The purpose of DQL commands is to get the schema relation based on the query passed to it.                                      \n",
    "The SELECT statement is used to select data from a database.                                                               \n",
    "\n",
    "The data returned is stored in a result table, called the result-set                                       \n",
    "Ex- SELECT * FROM table_name; This above command retrives all the data from table                                     \n",
    "\n",
    "SELECT ROLL_NO, NAME, AGE FROM Student; This command retrives ROLL_NO, NAME and AGE from student table."
   ]
  },
  {
   "cell_type": "markdown",
   "id": "0c0cc6d2-6328-407a-b210-8b70e05e0a56",
   "metadata": {},
   "source": [
    "Q5. Explain Primary Key and Foreign Key                                                                          \n",
    "Primary Key: A primary key is used to ensure that data in the specific column is unique. A column cannot have NULL values. It is either an existing table column or a column that is specifically generated by the database according to a defined sequence.                                                                                                                            \n",
    "A foreign key is a column or group of columns in a relational database table that provides a link between data in two tables. It is a column (or columns) that references a column (most often the primary key) of another table."
   ]
  },
  {
   "cell_type": "markdown",
   "id": "658b2b75-01ea-49f5-9d05-73981878bb40",
   "metadata": {},
   "source": [
    "Q6. Write a python code to connect MySQL to python. Explain the cursor() and execute() method.                         \n",
    "import mysql.connector                                                                                                  \n",
    "\n",
    "mydb = mysql.connector.connect( host=\"localhost\", user=\"abc\", password=\"password\" ) print(mydb) mycursor = mydb.cursor()       mycursor.execute(\"CREATE TABLE if not exists test.test_table(c1 INT,c2 VARCHAR(50),c3 INT,c4 FLOAT,c5 VARCHAR(30))\")      mydb.close()                                                                                                         \n",
    "\n",
    "Cursor is a Temporary Memory or Temporary Work Station. It is Allocated by Database Server at the Time of Performing DML(Data Manipulation Language) operations on Table by User. Cursors are used to store Database Tables.                           \n",
    "\n",
    "The Execute method executes the query, SQL statement or procedure specified in the CommandText property of the Command object. The results are stored in a new Recordset object if it is a row-returning query. A closed Recordset object will be returned if it is not a row-returning query."
   ]
  },
  {
   "cell_type": "markdown",
   "id": "1b4d8abb-1fd0-45a0-acec-8e74d0cbd80f",
   "metadata": {},
   "source": [
    "Q7. Give the order of execution of SQL clauses in an SQL query.                                                    \n",
    "Order of execution is:                                                 \n",
    "\n",
    "1.from                                                        \n",
    "\n",
    "2.where                                                          \n",
    "\n",
    "3.group by                                                             \n",
    "\n",
    "4.having                                                             \n",
    "\n",
    "5.select                                                                \n",
    "\n",
    "6.order by                                                   \n",
    "\n",
    "7.limit                                            "
   ]
  }
 ],
 "metadata": {
  "kernelspec": {
   "display_name": "Python 3 (ipykernel)",
   "language": "python",
   "name": "python3"
  },
  "language_info": {
   "codemirror_mode": {
    "name": "ipython",
    "version": 3
   },
   "file_extension": ".py",
   "mimetype": "text/x-python",
   "name": "python",
   "nbconvert_exporter": "python",
   "pygments_lexer": "ipython3",
   "version": "3.10.8"
  }
 },
 "nbformat": 4,
 "nbformat_minor": 5
}
